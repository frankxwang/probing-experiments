{
 "cells": [
  {
   "cell_type": "code",
   "execution_count": 1,
   "metadata": {},
   "outputs": [],
   "source": [
    "import functools\n",
    "import json\n",
    "import os\n",
    "from typing import Any, List, Tuple, Union\n",
    "import einops\n",
    "import matplotlib.pyplot as plt\n",
    "import torch\n",
    "import torch as t\n",
    "import torch.nn.functional as F\n",
    "from fancy_einsum import einsum\n",
    "from sklearn.linear_model import LinearRegression\n",
    "from torch import nn\n",
    "from toy_transformer import ParenTransformer, SimpleTokenizer\n",
    "\n",
    "MAIN = __name__ == \"__main__\"\n",
    "device = \"cuda\"\n",
    "IS_CI = os.getenv(\"IS_CI\")"
   ]
  },
  {
   "cell_type": "code",
   "execution_count": 2,
   "metadata": {},
   "outputs": [
    {
     "name": "stdout",
     "output_type": "stream",
     "text": [
      "loaded 100000 examples\n"
     ]
    }
   ],
   "source": [
    "model = ParenTransformer(ntoken=5, nclasses=2, d_model=56, nhead=2, d_hid=56, nlayers=3).to(device)\n",
    "state_dict = t.load(\"w2d3_state_dict.pt\")\n",
    "model.to(device)\n",
    "model.load_simple_transformer_state_dict(state_dict)\n",
    "model.eval()\n",
    "tokenizer = SimpleTokenizer(\"()\")\n",
    "with open(\"w2d3_data.json\") as f:\n",
    "    data_tuples: List[Tuple[str, bool]] = json.load(f)\n",
    "    print(f\"loaded {len(data_tuples)} examples\")\n",
    "assert isinstance(data_tuples, list)\n",
    "\n",
    "\n",
    "class DataSet:\n",
    "    \"\"\"A dataset containing sequences, is_balanced labels, and tokenized sequences\"\"\"\n",
    "\n",
    "    def __init__(self, data_tuples: list):\n",
    "        \"\"\"\n",
    "        data_tuples is List[Tuple[str, bool]] signifying sequence and label\n",
    "        \"\"\"\n",
    "        self.strs = [x[0] for x in data_tuples]\n",
    "        self.isbal = t.tensor([x[1] for x in data_tuples]).to(device=device, dtype=t.bool)\n",
    "        self.toks = tokenizer.tokenize(self.strs).to(device)\n",
    "\n",
    "        self.open_proportion = t.tensor([s.count(\"(\") / len(s) for s in self.strs])\n",
    "        self.starts_open = t.tensor([s[0] == \"(\" for s in self.strs]).bool()\n",
    "\n",
    "    def __len__(self) -> int:\n",
    "        return len(self.strs)\n",
    "\n",
    "    def __getitem__(self, idx) -> Union[\"DataSet\", tuple[str, t.Tensor, t.Tensor]]:\n",
    "        if type(idx) == slice:\n",
    "            return self.__class__(list(zip(self.strs[idx], self.isbal[idx])))\n",
    "        return self.strs[idx], self.isbal[idx], self.toks[idx]\n",
    "\n",
    "    @property\n",
    "    def seq_length(self) -> int:\n",
    "        return self.toks.size(-1)\n",
    "\n",
    "    @classmethod\n",
    "    def with_length(cls, data_tuples: list[tuple[str, bool]], selected_len: int) -> \"DataSet\":\n",
    "        return cls([(s, b) for (s, b) in data_tuples if len(s) == selected_len])\n",
    "\n",
    "    @classmethod\n",
    "    def with_start_char(cls, data_tuples: list[tuple[str, bool]], start_char: str) -> \"DataSet\":\n",
    "        return cls([(s, b) for (s, b) in data_tuples if s[0] == start_char])\n",
    "\n",
    "\n",
    "# N_SAMPLES = 5000 if not IS_CI else 100\n",
    "data_tuples = data_tuples\n",
    "data = DataSet(data_tuples)"
   ]
  },
  {
   "cell_type": "code",
   "execution_count": 3,
   "metadata": {},
   "outputs": [
    {
     "name": "stdout",
     "output_type": "stream",
     "text": [
      "tensor([0, 0, 1,  ..., 0, 0, 1], device='cuda:0')\n",
      "tensor([False, False,  True,  ..., False, False,  True], device='cuda:0')\n"
     ]
    }
   ],
   "source": [
    "print(t.argmax(model(data.toks), dim=-1))\n",
    "print(data.isbal)"
   ]
  },
  {
   "cell_type": "code",
   "execution_count": 4,
   "metadata": {},
   "outputs": [
    {
     "name": "stdout",
     "output_type": "stream",
     "text": [
      "tensor(0.9999, device='cuda:0')\n"
     ]
    }
   ],
   "source": [
    "correct = t.argmax(model(data.toks), dim=-1) == data.isbal\n",
    "print(t.sum(correct)/len(correct))"
   ]
  },
  {
   "cell_type": "code",
   "execution_count": 5,
   "metadata": {},
   "outputs": [],
   "source": [
    "def run_model_on_data(model: ParenTransformer, data: DataSet, batch_size: int = 2000) -> t.Tensor:\n",
    "    \"\"\"Return probability that each example is balanced\"\"\"\n",
    "    ln_probs = []\n",
    "    for i in range(0, len(data.strs), batch_size):\n",
    "        toks = data.toks[i : i + batch_size]\n",
    "        # note model outputs in a weird shape, [seqlen, batch, 2 (unbal, bal)]\n",
    "        with t.no_grad():\n",
    "            out = model(toks)\n",
    "        ln_probs.append(out)\n",
    "    out = t.cat(ln_probs).exp()\n",
    "    assert out.shape == (len(data), 2)\n",
    "    return out\n",
    "\n",
    "def get_inputs(model: ParenTransformer, data: DataSet, module: nn.Module) -> t.Tensor:\n",
    "    \"\"\"\n",
    "    Get the inputs to a particular submodule of the model when run on the data.\n",
    "    Returns a tensor of size (data_pts, seq_pos, emb_size).\n",
    "    \"\"\"\n",
    "    \"SOLUTION\"\n",
    "    acts = []\n",
    "    fn = lambda m, i, o: acts.append(i[0].detach().clone())\n",
    "    h = module.register_forward_hook(fn)\n",
    "    run_model_on_data(model, data)\n",
    "    h.remove()\n",
    "    out = t.concat(acts, dim=0)\n",
    "    assert out.shape == (len(data), data.seq_length, model.d_model)\n",
    "    return out.clone()\n",
    "\n",
    "\n",
    "def get_outputs(model: ParenTransformer, data: DataSet, module: nn.Module) -> t.Tensor:\n",
    "    \"\"\"\n",
    "    Get the outputs from a particular submodule of the model when run on the data.\n",
    "    Returns a tensor of size (data_pts, seq_pos, emb_size).\n",
    "    \"\"\"\n",
    "    \"SOLUTION\"\n",
    "    acts = []\n",
    "    fn = lambda m, i, o: acts.append(o.detach().clone())\n",
    "    h = module.register_forward_hook(fn)\n",
    "    run_model_on_data(model, data)\n",
    "    h.remove()\n",
    "    out = t.concat(acts, dim=0)\n",
    "    assert out.shape == (len(data), data.seq_length, model.d_model)\n",
    "    return out.clone()\n",
    "\n",
    "def get_out_by_head(model: ParenTransformer, data: DataSet, layer: int) -> t.Tensor:\n",
    "    \"\"\"\n",
    "    Get the output of the heads in a particular layer when the model is run on the data.\n",
    "    Returns a tensor of shape (batch, num_heads, seq, embed_width)\n",
    "    \"\"\"\n",
    "\n",
    "    \"SOLUTION\"\n",
    "    out_proj: nn.Linear = model.layers[layer].self_attn.project_output\n",
    "    combined_values = get_inputs(model, data, out_proj).to(device)\n",
    "    num_heads = model.nhead\n",
    "    # pytorch stores weight matricies in shape [out_features, in_features]\n",
    "    o_mats_by_head = einops.rearrange(out_proj.weight, \" out (head head_size) -> out head head_size\", head=num_heads)\n",
    "    head_value = einops.rearrange(combined_values, \"b seq (head head_size)-> b seq head head_size\", head=num_heads)\n",
    "    out_by_head = einsum(\n",
    "        \"out head head_size, batch seq head head_size -> batch head seq out\",\n",
    "        o_mats_by_head,\n",
    "        head_value,\n",
    "    )\n",
    "    assert out_by_head.shape == (len(data), num_heads, data.seq_length, model.d_model)\n",
    "    return out_by_head.clone()"
   ]
  },
  {
   "cell_type": "code",
   "execution_count": 6,
   "metadata": {},
   "outputs": [],
   "source": [
    "with t.inference_mode():\n",
    "    head_all = get_out_by_head(model, data, 0).cpu().numpy()\n",
    "\n",
    "head = head_all[:, 0, 1]"
   ]
  },
  {
   "cell_type": "code",
   "execution_count": 92,
   "metadata": {},
   "outputs": [],
   "source": [
    "is_left = t.sum(data.toks == 3, dim=1)\n",
    "is_right = t.sum(data.toks == 4, dim=1)\n",
    "equal_num = ((is_left - is_right)/(is_left + is_right)).cpu().numpy()"
   ]
  },
  {
   "cell_type": "code",
   "execution_count": 93,
   "metadata": {},
   "outputs": [
    {
     "name": "stdout",
     "output_type": "stream",
     "text": [
      "(100000,)\n",
      "(100000, 56)\n"
     ]
    }
   ],
   "source": [
    "print(equal_num.shape)\n",
    "print(head.shape)"
   ]
  },
  {
   "cell_type": "code",
   "execution_count": 97,
   "metadata": {},
   "outputs": [
    {
     "name": "stdout",
     "output_type": "stream",
     "text": [
      "LINEAR TRAIN SCORE:  0.9433968252058565\n",
      "LINEAR TEST SCORE:  0.9446982943055677\n",
      "LOGISTIC TRAIN SCORE:  0.9493777777777778\n",
      "LOGISTIC TEST SCORE:  0.9514\n"
     ]
    },
    {
     "name": "stderr",
     "output_type": "stream",
     "text": [
      "/home/ubuntu/miniconda3/lib/python3.10/site-packages/sklearn/linear_model/_logistic.py:458: ConvergenceWarning: lbfgs failed to converge (status=1):\n",
      "STOP: TOTAL NO. of ITERATIONS REACHED LIMIT.\n",
      "\n",
      "Increase the number of iterations (max_iter) or scale the data as shown in:\n",
      "    https://scikit-learn.org/stable/modules/preprocessing.html\n",
      "Please also refer to the documentation for alternative solver options:\n",
      "    https://scikit-learn.org/stable/modules/linear_model.html#logistic-regression\n",
      "  n_iter_i = _check_optimize_result(\n"
     ]
    }
   ],
   "source": [
    "from sklearn.linear_model import LogisticRegression, LinearRegression, Ridge\n",
    "from sklearn.model_selection import train_test_split\n",
    "\n",
    "head_train, head_test, equal_num_train, equal_num_test = train_test_split(head, equal_num, test_size=0.1)\n",
    "\n",
    "linear = Ridge(alpha=0.1)\n",
    "fitted_linear = linear.fit(head_train, equal_num_train)\n",
    "print(\"LINEAR TRAIN SCORE: \", fitted_linear.score(head_train, equal_num_train))\n",
    "print(\"LINEAR TEST SCORE: \", fitted_linear.score(head_test, equal_num_test))\n",
    "\n",
    "logistic = LogisticRegression()\n",
    "fitted_logistic = logistic.fit(head, equal_num > 0)\n",
    "print(\"LOGISTIC TRAIN SCORE: \", fitted_logistic.score(head_train, equal_num_train > 0))\n",
    "print(\"LOGISTIC TEST SCORE: \", fitted_logistic.score(head_test, equal_num_test > 0))"
   ]
  },
  {
   "cell_type": "code",
   "execution_count": 1,
   "metadata": {},
   "outputs": [
    {
     "ename": "NameError",
     "evalue": "name 't' is not defined",
     "output_type": "error",
     "traceback": [
      "\u001b[0;31m---------------------------------------------------------------------------\u001b[0m",
      "\u001b[0;31mNameError\u001b[0m                                 Traceback (most recent call last)",
      "Cell \u001b[0;32mIn[1], line 5\u001b[0m\n\u001b[1;32m      1\u001b[0m \u001b[39mimport\u001b[39;00m \u001b[39mnumpy\u001b[39;00m \u001b[39mas\u001b[39;00m \u001b[39mnp\u001b[39;00m\n\u001b[1;32m      3\u001b[0m index \u001b[39m=\u001b[39m \u001b[39m0\u001b[39m\n\u001b[0;32m----> 5\u001b[0m is_left \u001b[39m=\u001b[39m t\u001b[39m.\u001b[39msum(data\u001b[39m.\u001b[39mtoks[index:] \u001b[39m==\u001b[39m \u001b[39m3\u001b[39m, dim\u001b[39m=\u001b[39m\u001b[39m1\u001b[39m)\n\u001b[1;32m      6\u001b[0m is_right \u001b[39m=\u001b[39m t\u001b[39m.\u001b[39msum(data\u001b[39m.\u001b[39mtoks[index:] \u001b[39m==\u001b[39m \u001b[39m4\u001b[39m, dim\u001b[39m=\u001b[39m\u001b[39m1\u001b[39m)\n\u001b[1;32m      7\u001b[0m equal_num \u001b[39m=\u001b[39m ((is_left \u001b[39m-\u001b[39m is_right)\u001b[39m/\u001b[39m(is_left \u001b[39m+\u001b[39m is_right))\u001b[39m.\u001b[39mcpu()\u001b[39m.\u001b[39mnumpy()\n",
      "\u001b[0;31mNameError\u001b[0m: name 't' is not defined"
     ]
    }
   ],
   "source": [
    "import numpy as np\n",
    "\n",
    "index = 0\n",
    "\n",
    "is_left = t.sum(data.toks[index:] == 3, dim=1)\n",
    "is_right = t.sum(data.toks[index:] == 4, dim=1)\n",
    "equal_num = ((is_left - is_right)/(is_left + is_right)).cpu().numpy()\n",
    "\n",
    "paren_emb = np.array([-0.22606339, -0.3817214, -1.4104964, 0.19177942, 1.9899428, 0.4391564, 0.7656387, -0.63001657, 1.2170641, -0.78435856, -2.0772018, 0.5796861, 0.14452729, -1.5480461, -1.4717238, 1.3908799, -2.650712, 2.2939675, 1.9186023, 2.2521715, -0.97538763, -2.0912004, -2.1513553, 1.0542943, -1.6433673, -0.49036485, 1.5739079, -1.6167231, 0.005950656, -0.5535703, -1.6153314, 0.34630018, -1.2608914, 2.3687954, -2.0325658, 2.681696, 1.3179133, 0.21228376, 0.2400737, 2.4026039, -0.22275975, -1.6459382, 0.49807006, 0.4056123, 0.574695, 0.31673485, -1.1493986, 1.0393034, 0.48291945, 1.7879814, 0.32313624, -0.44806415, 1.7664179, 1.3369981, 0.039000615, 0.7465193])\n",
    "dot_scores = np.dot(head_all[:, 0, index], paren_emb[:, None])[:, 0]\n",
    "plt.scatter(dot_scores, equal_num)"
   ]
  },
  {
   "cell_type": "code",
   "execution_count": 108,
   "metadata": {},
   "outputs": [
    {
     "data": {
      "text/plain": [
       "<matplotlib.collections.PathCollection at 0x7f46e82e6110>"
      ]
     },
     "execution_count": 108,
     "metadata": {},
     "output_type": "execute_result"
    },
    {
     "data": {
      "image/png": "[encoded data removed]",
      "text/plain": [
       "<Figure size 640x480 with 1 Axes>"
      ]
     },
     "metadata": {},
     "output_type": "display_data"
    }
   ],
   "source": [
    "import numpy as np\n",
    "\n",
    "paren_emb = np.array([-0.22606339, -0.3817214, -1.4104964, 0.19177942, 1.9899428, 0.4391564, 0.7656387, -0.63001657, 1.2170641, -0.78435856, -2.0772018, 0.5796861, 0.14452729, -1.5480461, -1.4717238, 1.3908799, -2.650712, 2.2939675, 1.9186023, 2.2521715, -0.97538763, -2.0912004, -2.1513553, 1.0542943, -1.6433673, -0.49036485, 1.5739079, -1.6167231, 0.005950656, -0.5535703, -1.6153314, 0.34630018, -1.2608914, 2.3687954, -2.0325658, 2.681696, 1.3179133, 0.21228376, 0.2400737, 2.4026039, -0.22275975, -1.6459382, 0.49807006, 0.4056123, 0.574695, 0.31673485, -1.1493986, 1.0393034, 0.48291945, 1.7879814, 0.32313624, -0.44806415, 1.7664179, 1.3369981, 0.039000615, 0.7465193])\n",
    "dot_scores = np.dot(head, paren_emb[:, None])[:, 0]\n",
    "plt.scatter(dot_scores, equal_num)"
   ]
  },
  {
   "cell_type": "code",
   "execution_count": 99,
   "metadata": {},
   "outputs": [
    {
     "name": "stdout",
     "output_type": "stream",
     "text": [
      "[0.6957917, 0.59944093, -1.0147251, 3.8021724, -3.5778842, 1.6739573, -0.29665315, 0.6043825, -0.7319515, 0.72144914, -1.5906075, -0.7782403, 0.43377784, 0.93158233, -2.5924559, -0.962626, -1.0297241, 0.13413242, -0.8444396, 0.31689143, 0.9103052, -0.52191836, -1.4871575, -0.26765567, 2.1903932, 0.354667, 1.0537567, -1.5249196, 1.5180318, -0.12691274, -0.35784832, 1.7299594, -0.5756264, -3.8590117, -0.53154993, -0.025224507, 0.9939769, -0.8150835, -1.1005669, -0.5077586, -0.16486959, -0.42760968, -1.444979, 0.33551675, -1.440161, 0.67834026, 0.20499009, 0.83807296, 1.8270139, -1.2330928, 0.9159838, -0.1344012, 2.529079, 0.8573505, 0.4836902, -0.32683372]\n",
      "-1.4240535\n"
     ]
    }
   ],
   "source": [
    "print(list(fitted_linear.coef_))\n",
    "print(fitted_linear.intercept_)"
   ]
  },
  {
   "cell_type": "code",
   "execution_count": 91,
   "metadata": {},
   "outputs": [
    {
     "name": "stdout",
     "output_type": "stream",
     "text": [
      "[ 203.89867    -85.39272    198.81613    -70.11029   -185.94077\n",
      " -371.7755     241.11273   -116.778885    89.805435     8.642548\n",
      "  -99.72683    113.35329    325.12143   -234.48303     38.77481\n",
      "  348.44952    336.28815    -79.82727   -342.4427      51.81051\n",
      " -216.90881   -372.40344   -202.81696    338.92065    -16.24034\n",
      "  159.88925    -91.38898     22.917664   138.89667   -163.70291\n",
      "   68.135056   304.10608    132.2829    -106.853935   -31.945587\n",
      " -109.22226    -27.928917   -20.00038     61.088947  -171.24222\n",
      " -146.82693    -21.021461   297.66013   -264.2655    -250.93457\n",
      "  411.97977     63.968277   146.41164    -39.349426   141.69286\n",
      "   -3.2745552 -106.78399    118.69666   -255.423      -81.99983\n",
      "  201.02673  ]\n",
      "3.4669752\n"
     ]
    }
   ],
   "source": [
    "print(fitted_linear.coef_)\n",
    "print(fitted_linear.intercept_)"
   ]
  },
  {
   "cell_type": "code",
   "execution_count": 88,
   "metadata": {},
   "outputs": [
    {
     "data": {
      "text/plain": [
       "<matplotlib.collections.PathCollection at 0x7f46e96c2d40>"
      ]
     },
     "execution_count": 88,
     "metadata": {},
     "output_type": "execute_result"
    },
    {
     "data": {
      "image/png": "[encoded data removed]",
      "text/plain": [
       "<Figure size 640x480 with 1 Axes>"
      ]
     },
     "metadata": {},
     "output_type": "display_data"
    }
   ],
   "source": [
    "plt.scatter(fitted_linear.predict(head_test), equal_num_test)"
   ]
  },
  {
   "cell_type": "code",
   "execution_count": 59,
   "metadata": {},
   "outputs": [
    {
     "data": {
      "text/plain": [
       "array([ 2.906311  ,  1.7578735 , -0.5648804 , ..., -2.9223022 ,\n",
       "        1.4907837 , -0.49017334], dtype=float32)"
      ]
     },
     "execution_count": 59,
     "metadata": {},
     "output_type": "execute_result"
    }
   ],
   "source": [
    "fitted_lr.predict(head.cpu())"
   ]
  },
  {
   "cell_type": "code",
   "execution_count": 31,
   "metadata": {},
   "outputs": [],
   "source": [
    "cache = None\n",
    "\n",
    "def cache_fn(module, input, out):\n",
    "    global cache\n",
    "    cache = out.detach()\n",
    "\n",
    "hooks = []\n",
    "# for i, layer in enumerate(model.layers):\n",
    "#     if i == 0\n",
    "hooks.append(model.layers[0].self_attn.register_forward_hook(cache_fn))\n",
    "\n",
    "with t.inference_mode():\n",
    "    model(data.toks)\n",
    "\n",
    "for hook in hooks:\n",
    "    hook.remove()"
   ]
  },
  {
   "cell_type": "code",
   "execution_count": 34,
   "metadata": {},
   "outputs": [
    {
     "name": "stdout",
     "output_type": "stream",
     "text": [
      "TransformerBlock(\n",
      "  (norm1): LayerNorm((56,), eps=1e-05, elementwise_affine=True)\n",
      "  (norm2): LayerNorm((56,), eps=1e-05, elementwise_affine=True)\n",
      "  (self_attn): BertSelfAttention(\n",
      "    (project_query): Linear(in_features=56, out_features=56, bias=True)\n",
      "    (project_key): Linear(in_features=56, out_features=56, bias=True)\n",
      "    (project_value): Linear(in_features=56, out_features=56, bias=True)\n",
      "    (project_output): Linear(in_features=56, out_features=56, bias=True)\n",
      "  )\n",
      "  (linear1): Linear(in_features=56, out_features=56, bias=True)\n",
      "  (linear2): Linear(in_features=56, out_features=56, bias=True)\n",
      "  (activation): ReLU()\n",
      ")\n"
     ]
    }
   ],
   "source": [
    "print(model.layers[0])"
   ]
  },
  {
   "cell_type": "code",
   "execution_count": 33,
   "metadata": {},
   "outputs": [
    {
     "name": "stdout",
     "output_type": "stream",
     "text": [
      "torch.Size([100000, 42, 56])\n"
     ]
    }
   ],
   "source": [
    "print(cache.shape)"
   ]
  },
  {
   "cell_type": "code",
   "execution_count": 25,
   "metadata": {},
   "outputs": [],
   "source": [
    "for hook in hooks:\n",
    "    hook.remove()"
   ]
  },
  {
   "cell_type": "code",
   "execution_count": null,
   "metadata": {},
   "outputs": [],
   "source": []
  }
 ],
 "metadata": {
  "kernelspec": {
   "display_name": "base",
   "language": "python",
   "name": "python3"
  },
  "language_info": {
   "codemirror_mode": {
    "name": "ipython",
    "version": 3
   },
   "file_extension": ".py",
   "mimetype": "text/x-python",
   "name": "python",
   "nbconvert_exporter": "python",
   "pygments_lexer": "ipython3",
   "version": "3.10.9"
  },
  "orig_nbformat": 4,
  "vscode": {
   "interpreter": {
    "hash": "7a2c4b191d1ae843dde5cb5f4d1f62fa892f6b79b0f9392a84691e890e33c5a4"
   }
  }
 },
 "nbformat": 4,
 "nbformat_minor": 2
}
